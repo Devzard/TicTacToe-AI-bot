{
 "cells": [
  {
   "cell_type": "code",
   "execution_count": 1,
   "metadata": {},
   "outputs": [],
   "source": [
    "import gym\n",
    "from gym import spaces\n",
    "import numpy as np\n",
    "import heuristicBot\n",
    "import TicTacToe as ttt\n",
    "import os"
   ]
  },
  {
   "cell_type": "markdown",
   "metadata": {},
   "source": [
    "Player representation : 1(X), 2(O)\n",
    "Game grid : a 3x3 numpy array"
   ]
  },
  {
   "cell_type": "code",
   "execution_count": 2,
   "metadata": {},
   "outputs": [],
   "source": [
    "def mark_piece(grid, index, player):\n",
    "    \"\"\"\n",
    "    1. places a move by the RL agent\n",
    "    2. check if invalid\n",
    "    3. if not check if agent won or draw\n",
    "    4. if not place move by opponent\n",
    "    5. check if opponent won or draw\n",
    "    6. return respective code at appropiate step\n",
    "    returns -2:continue, -1:invalid move, \n",
    "            1:1 wins, 2:2 wins, 0:draw\n",
    "    \"\"\"\n",
    "    if grid[index] != 0:\n",
    "        return -1, grid\n",
    "    else:\n",
    "        grid[index] = player\n",
    "        score = ttt.gridScore(grid)\n",
    "        if score != -1 and score == 1:\n",
    "            return player, grid\n",
    "        elif score != -1:\n",
    "            return 0, grid\n",
    "        # opponent agent : a n-step-lookahead bot\n",
    "        available_moves = [(i, j) for i in range(3)\n",
    "                           for j in range(3) if grid[i, j] == 0]\n",
    "        opp_player = (player % 2) + 1\n",
    "        opp_move_idx = heuristicBot.nslAgent(\n",
    "            2, grid, available_moves, opp_player)\n",
    "        grid[opp_move_idx] = opp_player\n",
    "        score = ttt.gridScore(grid)\n",
    "        if score != -1 and score == 1:\n",
    "            return opp_player, grid\n",
    "        elif score != -1:\n",
    "            return 0, grid\n",
    "        return -2, grid"
   ]
  },
  {
   "cell_type": "markdown",
   "metadata": {},
   "source": [
    "# Defining the Custom gym environment\n",
    "**Rewards**\n",
    "- 1 for winning\n",
    "- -1 for loosing\n",
    "- -10 for invalid move\n",
    "- 1/9 for everything else"
   ]
  },
  {
   "cell_type": "code",
   "execution_count": 3,
   "metadata": {},
   "outputs": [],
   "source": [
    "class TicTacToeEnv(gym.Env):\n",
    "    def __init__(self):\n",
    "        \"\"\"\n",
    "        Define action and observation space\n",
    "        They must be gym.spaces objects\n",
    "        \"\"\"\n",
    "        super(TicTacToeEnv, self).__init__()\n",
    "        self.action_space = spaces.Discrete(9)\n",
    "        self.observation_space = spaces.Box(low=0, high=2, shape=(3,3), dtype=int)\n",
    "        self.reward_range = (-10, 1)\n",
    "        self.action_moves = [(i,j) for i in range(3) for j in range(3)]\n",
    "        self.player = 1\n",
    "        \n",
    "        # defined else stable baselines throws error\n",
    "        self.spec = None\n",
    "        self.metadata = None\n",
    "\n",
    "\n",
    "    def reset(self):\n",
    "        \"\"\"\n",
    "        Reset the state of the environment to an initial state\n",
    "        returns \n",
    "        eg.\n",
    "            return self.state\n",
    "        \"\"\"\n",
    "        self.grid = np.zeros((3, 3))\n",
    "\n",
    "        return self.grid\n",
    "\n",
    "\n",
    "    def step(self, action):\n",
    "        \"\"\"\n",
    "        Execute one time step within the environment\n",
    "        returns next state\n",
    "        eg. \n",
    "            modify state\n",
    "            return self.state, reward, done, info\n",
    "        \"\"\"\n",
    "        score, self.grid = mark_piece(self.grid, self.action_moves[action], self.player)\n",
    "\n",
    "        # reward\n",
    "        reward = 0\n",
    "        if score == -1:\n",
    "            reward = -10\n",
    "        elif score == 1:\n",
    "            reward = 1\n",
    "        elif score == 2:\n",
    "            reward = -1\n",
    "        elif score == -2:\n",
    "            reward = 1/9\n",
    "\n",
    "        # check if grid ended\n",
    "        done = True\n",
    "        if score == -2:\n",
    "            done = False\n",
    "\n",
    "        # info for debugginh\n",
    "        info = {}\n",
    "        \n",
    "        return self.grid, reward, done, info\n",
    "\n",
    "\n",
    "    def render(self):\n",
    "        if ttt.gameOver(self.grid, self.player, False)[0]:\n",
    "            print('-----------------')\n",
    "            ttt.showGrid(self.grid)\n",
    "            print('-----------------')\n"
   ]
  },
  {
   "cell_type": "markdown",
   "metadata": {},
   "source": [
    "# Test environment"
   ]
  },
  {
   "cell_type": "code",
   "execution_count": 6,
   "metadata": {},
   "outputs": [
    {
     "name": "stdout",
     "output_type": "stream",
     "text": [
      "Episode:1, Score:-9.777777777777779\n",
      "Episode:2, Score:-0.7777777777777778\n",
      "Episode:3, Score:-0.7777777777777778\n",
      "Episode:4, Score:-9.666666666666666\n",
      "Episode:5, Score:-9.777777777777779\n"
     ]
    }
   ],
   "source": [
    "env = TicTacToeEnv()\n",
    "episodes = 5\n",
    "for episode in range(episodes):\n",
    "    obs = env.reset()\n",
    "    done = False\n",
    "    score = 0\n",
    "\n",
    "    while not done:\n",
    "        env.render()\n",
    "        action = env.action_space.sample()\n",
    "        obs, reward, done, infp = env.step(action)\n",
    "        score += reward\n",
    "    print(f'Episode:{episode+1}, Score:{score}')\n",
    "env.close()"
   ]
  },
  {
   "cell_type": "code",
   "execution_count": 7,
   "metadata": {},
   "outputs": [],
   "source": [
    "from stable_baselines.bench import Monitor\n",
    "from stable_baselines.common.vec_env import DummyVecEnv\n",
    "from stable_baselines.common.policies import MlpPolicy\n",
    "from stable_baselines import PPO2"
   ]
  },
  {
   "cell_type": "code",
   "execution_count": 8,
   "metadata": {},
   "outputs": [],
   "source": [
    "# logging training information\n",
    "log_dir = 'training_logs_MlpPolicy/'\n",
    "os.makedirs(log_dir, exist_ok=True)\n",
    "\n",
    "# Logging progress\n",
    "monitor_env = Monitor(env, log_dir, allow_early_resets=True)\n",
    "\n",
    "# Create a vectorized environment\n",
    "vec_env = DummyVecEnv([lambda: monitor_env])"
   ]
  },
  {
   "cell_type": "code",
   "execution_count": 9,
   "metadata": {
    "collapsed": true
   },
   "outputs": [
    {
     "name": "stdout",
     "output_type": "stream",
     "text": [
      "WARNING:tensorflow:From C:\\Users\\Debashish Gogoi\\miniconda3\\envs\\stable_baselines\\lib\\site-packages\\stable_baselines\\common\\tf_util.py:58: The name tf.ConfigProto is deprecated. Please use tf.compat.v1.ConfigProto instead.\n",
      "\n",
      "WARNING:tensorflow:From C:\\Users\\Debashish Gogoi\\miniconda3\\envs\\stable_baselines\\lib\\site-packages\\stable_baselines\\common\\tf_util.py:67: The name tf.Session is deprecated. Please use tf.compat.v1.Session instead.\n",
      "\n",
      "WARNING:tensorflow:From C:\\Users\\Debashish Gogoi\\miniconda3\\envs\\stable_baselines\\lib\\site-packages\\stable_baselines\\common\\policies.py:115: The name tf.variable_scope is deprecated. Please use tf.compat.v1.variable_scope instead.\n",
      "\n",
      "WARNING:tensorflow:From C:\\Users\\Debashish Gogoi\\miniconda3\\envs\\stable_baselines\\lib\\site-packages\\stable_baselines\\common\\input.py:25: The name tf.placeholder is deprecated. Please use tf.compat.v1.placeholder instead.\n",
      "\n",
      "WARNING:tensorflow:From C:\\Users\\Debashish Gogoi\\miniconda3\\envs\\stable_baselines\\lib\\site-packages\\stable_baselines\\common\\policies.py:560: flatten (from tensorflow.python.layers.core) is deprecated and will be removed in a future version.\n",
      "Instructions for updating:\n",
      "Use keras.layers.flatten instead.\n",
      "WARNING:tensorflow:From C:\\Users\\Debashish Gogoi\\miniconda3\\envs\\stable_baselines\\lib\\site-packages\\tensorflow_core\\python\\layers\\core.py:332: Layer.apply (from tensorflow.python.keras.engine.base_layer) is deprecated and will be removed in a future version.\n",
      "Instructions for updating:\n",
      "Please use `layer.__call__` method instead.\n",
      "WARNING:tensorflow:From C:\\Users\\Debashish Gogoi\\miniconda3\\envs\\stable_baselines\\lib\\site-packages\\stable_baselines\\a2c\\utils.py:156: The name tf.get_variable is deprecated. Please use tf.compat.v1.get_variable instead.\n",
      "\n",
      "WARNING:tensorflow:From C:\\Users\\Debashish Gogoi\\miniconda3\\envs\\stable_baselines\\lib\\site-packages\\stable_baselines\\common\\distributions.py:326: The name tf.random_uniform is deprecated. Please use tf.random.uniform instead.\n",
      "\n",
      "WARNING:tensorflow:From C:\\Users\\Debashish Gogoi\\miniconda3\\envs\\stable_baselines\\lib\\site-packages\\stable_baselines\\common\\distributions.py:327: The name tf.log is deprecated. Please use tf.math.log instead.\n",
      "\n",
      "WARNING:tensorflow:From C:\\Users\\Debashish Gogoi\\miniconda3\\envs\\stable_baselines\\lib\\site-packages\\stable_baselines\\ppo2\\ppo2.py:194: The name tf.summary.scalar is deprecated. Please use tf.compat.v1.summary.scalar instead.\n",
      "\n",
      "WARNING:tensorflow:From C:\\Users\\Debashish Gogoi\\miniconda3\\envs\\stable_baselines\\lib\\site-packages\\stable_baselines\\ppo2\\ppo2.py:202: The name tf.trainable_variables is deprecated. Please use tf.compat.v1.trainable_variables instead.\n",
      "\n",
      "WARNING:tensorflow:From C:\\Users\\Debashish Gogoi\\miniconda3\\envs\\stable_baselines\\lib\\site-packages\\tensorflow_core\\python\\ops\\math_grad.py:1424: where (from tensorflow.python.ops.array_ops) is deprecated and will be removed in a future version.\n",
      "Instructions for updating:\n",
      "Use tf.where in 2.0, which has the same broadcast rule as np.where\n",
      "WARNING:tensorflow:From C:\\Users\\Debashish Gogoi\\miniconda3\\envs\\stable_baselines\\lib\\site-packages\\stable_baselines\\ppo2\\ppo2.py:210: The name tf.train.AdamOptimizer is deprecated. Please use tf.compat.v1.train.AdamOptimizer instead.\n",
      "\n",
      "WARNING:tensorflow:From C:\\Users\\Debashish Gogoi\\miniconda3\\envs\\stable_baselines\\lib\\site-packages\\stable_baselines\\ppo2\\ppo2.py:244: The name tf.global_variables_initializer is deprecated. Please use tf.compat.v1.global_variables_initializer instead.\n",
      "\n",
      "WARNING:tensorflow:From C:\\Users\\Debashish Gogoi\\miniconda3\\envs\\stable_baselines\\lib\\site-packages\\stable_baselines\\ppo2\\ppo2.py:246: The name tf.summary.merge_all is deprecated. Please use tf.compat.v1.summary.merge_all instead.\n",
      "\n"
     ]
    }
   ],
   "source": [
    "# using a predefined model\n",
    "env = TicTacToeEnv()\n",
    "pre_model = PPO2(MlpPolicy, vec_env, verbose=1)"
   ]
  },
  {
   "cell_type": "code",
   "execution_count": null,
   "metadata": {},
   "outputs": [],
   "source": [
    "pre_model.learn(total_timesteps=30000)"
   ]
  },
  {
   "cell_type": "markdown",
   "metadata": {},
   "source": [
    "# Test the model and save"
   ]
  },
  {
   "cell_type": "code",
   "execution_count": 98,
   "metadata": {},
   "outputs": [],
   "source": [
    "from stable_baselines.common.evaluation import evaluate_policy"
   ]
  },
  {
   "cell_type": "code",
   "execution_count": 99,
   "metadata": {
    "scrolled": false
   },
   "outputs": [
    {
     "name": "stdout",
     "output_type": "stream",
     "text": [
      "-----------------\n",
      "| X || O || X |\n",
      "| _ || O || X |\n",
      "| _ || O || _ |\n",
      "-----------------\n",
      "-----------------\n",
      "| X || O || X |\n",
      "| _ || X || _ |\n",
      "| O || O || X |\n",
      "-----------------\n",
      "-----------------\n",
      "| X || O || X |\n",
      "| X || O || _ |\n",
      "| X || _ || O |\n",
      "-----------------\n",
      "-----------------\n",
      "| X || O || X |\n",
      "| _ || O || X |\n",
      "| O || _ || X |\n",
      "-----------------\n",
      "-----------------\n",
      "| X || O || X |\n",
      "| O || X || _ |\n",
      "| X || _ || O |\n",
      "-----------------\n",
      "-----------------\n",
      "| X || O || X |\n",
      "| _ || X || _ |\n",
      "| O || O || X |\n",
      "-----------------\n",
      "-----------------\n",
      "| O || X || X |\n",
      "| _ || X || O |\n",
      "| O || X || _ |\n",
      "-----------------\n",
      "-----------------\n",
      "| X || O || X |\n",
      "| X || O || _ |\n",
      "| X || _ || O |\n",
      "-----------------\n",
      "-----------------\n",
      "| X || O || X |\n",
      "| X || O || _ |\n",
      "| X || _ || O |\n",
      "-----------------\n",
      "-----------------\n",
      "| X || X || X |\n",
      "| O || O || _ |\n",
      "| X || _ || O |\n",
      "-----------------\n"
     ]
    }
   ],
   "source": [
    "evaluate_policy(pre_model, env, n_eval_episodes=10, render=True)\n",
    "env.close()"
   ]
  },
  {
   "cell_type": "code",
   "execution_count": 100,
   "metadata": {},
   "outputs": [],
   "source": [
    "import pandas as pd\n",
    "import matplotlib.pyplot as plt\n",
    "%matplotlib inline"
   ]
  },
  {
   "cell_type": "code",
   "execution_count": 111,
   "metadata": {},
   "outputs": [
    {
     "data": {
      "image/png": "[encoded data removed]",
      "text/plain": [
       "<Figure size 432x288 with 1 Axes>"
      ]
     },
     "metadata": {
      "needs_background": "light"
     },
     "output_type": "display_data"
    }
   ],
   "source": [
    "# Plot cumulative reward\n",
    "with open(os.path.join(log_dir, \"monitor.csv\"), 'rt') as fh:    \n",
    "    firstline = fh.readline()\n",
    "    assert firstline[0] == '#'\n",
    "    df = pd.read_csv(fh, index_col=None)['r']\n",
    "df.rolling(window=1000).mean().plot()\n",
    "plt.show()"
   ]
  },
  {
   "cell_type": "markdown",
   "metadata": {},
   "source": [
    "# Save the model"
   ]
  },
  {
   "cell_type": "code",
   "execution_count": 102,
   "metadata": {},
   "outputs": [],
   "source": [
    "pre_model.save('PPO2_model')\n",
    "del pre_model"
   ]
  },
  {
   "cell_type": "code",
   "execution_count": 104,
   "metadata": {},
   "outputs": [],
   "source": [
    "pre_model = PPO2.load(\"PPO2_model\", env=vec_env)"
   ]
  },
  {
   "cell_type": "code",
   "execution_count": 107,
   "metadata": {},
   "outputs": [
    {
     "name": "stdout",
     "output_type": "stream",
     "text": [
      "-----------------\n",
      "| O || X || X |\n",
      "| _ || X || O |\n",
      "| O || X || _ |\n",
      "-----------------\n"
     ]
    }
   ],
   "source": [
    "obs = env.reset()\n",
    "while True:\n",
    "    action, _states = pre_model.predict(obs)\n",
    "    obs, rewards, done, info = env.step(action)\n",
    "    env.render()\n",
    "    if done:\n",
    "        break\n",
    "env.close()"
   ]
  }
 ],
 "metadata": {
  "interpreter": {
   "hash": "676255bcb1cb938748d88b29e2adc69b381e5589bb9c2cfede7d3b57b7898317"
  },
  "kernelspec": {
   "display_name": "Python 3",
   "language": "python",
   "name": "python3"
  },
  "language_info": {
   "codemirror_mode": {
    "name": "ipython",
    "version": 3
   },
   "file_extension": ".py",
   "mimetype": "text/x-python",
   "name": "python",
   "nbconvert_exporter": "python",
   "pygments_lexer": "ipython3",
   "version": "3.7.11"
  }
 },
 "nbformat": 4,
 "nbformat_minor": 2
}
