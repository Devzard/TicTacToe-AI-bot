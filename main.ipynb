{
 "cells": [
  {
   "cell_type": "markdown",
   "id": "fc2c984d",
   "metadata": {},
   "source": [
    "# 1. Create the custom environment"
   ]
  },
  {
   "cell_type": "code",
   "execution_count": 3,
   "id": "71cd3020",
   "metadata": {},
   "outputs": [
    {
     "name": "stdout",
     "output_type": "stream",
     "text": [
      "Collecting gym"
     ]
    },
    {
     "name": "stderr",
     "output_type": "stream",
     "text": [
      "WARNING: Error parsing requirements for pytz: [Errno 2] No such file or directory: 'c:\\\\users\\\\debashish gogoi\\\\miniconda3\\\\envs\\\\tf2\\\\lib\\\\site-packages\\\\pytz-2021.1.dist-info\\\\METADATA'\n"
     ]
    },
    {
     "name": "stdout",
     "output_type": "stream",
     "text": [
      "\n",
      "  Using cached gym-0.19.0-py3-none-any.whl\n",
      "Requirement already satisfied: numpy>=1.18.0 in c:\\users\\debashish gogoi\\miniconda3\\envs\\tf2\\lib\\site-packages (from gym) (1.18.5)\n",
      "Collecting cloudpickle<1.7.0,>=1.2.0\n",
      "  Using cached cloudpickle-1.6.0-py3-none-any.whl (23 kB)\n",
      "Installing collected packages: cloudpickle, gym\n",
      "Successfully installed cloudpickle-1.6.0 gym-0.19.0\n"
     ]
    }
   ],
   "source": [
    "!pip install gym"
   ]
  },
  {
   "cell_type": "code",
   "execution_count": 4,
   "id": "fdd1e017",
   "metadata": {},
   "outputs": [],
   "source": [
    "import gym\n",
    "from gym import spaces\n",
    "import numpy as np\n",
    "import heuristicBot\n",
    "import TicTacToe as ttt"
   ]
  },
  {
   "cell_type": "code",
   "execution_count": 5,
   "id": "8763604d",
   "metadata": {},
   "outputs": [],
   "source": [
    "def mark_piece(grid, index, player):\n",
    "    \"\"\"\n",
    "    1. places a move by the RL agent\n",
    "    2. check if invalid\n",
    "    3. if not check if agent won or draw\n",
    "    4. if not place move by opponent\n",
    "    5. check if opponent won or draw\n",
    "    6. return respective code at appropiate step\n",
    "    returns -2:continue, -1:invalid move, \n",
    "            1:1 wins, 2:2 wins, 0:draw\n",
    "    \"\"\"\n",
    "    if grid[index] != 0:\n",
    "        return -1, grid\n",
    "    else:\n",
    "        grid[index] = player\n",
    "        score = ttt.gridScore(grid)\n",
    "        if score != -1 and score == 1:\n",
    "            return player, grid\n",
    "        elif score != -1:\n",
    "            return 0, grid\n",
    "        # opponent agent : a n-step-lookahead bot\n",
    "        available_moves = [(i, j) for i in range(3)\n",
    "                           for j in range(3) if grid[i, j] == 0]\n",
    "        opp_player = (player % 2) + 1\n",
    "        opp_move_idx = heuristicBot.nslAgent(\n",
    "            2, grid, available_moves, opp_player)\n",
    "        grid[opp_move_idx] = opp_player\n",
    "        score = ttt.gridScore(grid)\n",
    "        if score != -1 and score == 1:\n",
    "            return opp_player, grid\n",
    "        elif score != -1:\n",
    "            return 0, grid\n",
    "        return -2, grid"
   ]
  },
  {
   "cell_type": "code",
   "execution_count": 117,
   "id": "1865134d",
   "metadata": {},
   "outputs": [],
   "source": [
    "# Custom environment\n",
    "class TicTacToeEnv(gym.Env):\n",
    "    def __init__(self):\n",
    "        \"\"\"\n",
    "        Define action and observation space\n",
    "        They must be gym.spaces objects\n",
    "        \"\"\"\n",
    "        super(TicTacToeEnv, self).__init__()\n",
    "        self.action_space = spaces.Discrete(9)\n",
    "        self.observation_space = spaces.Box(low=0, high=2, shape=(3,3), dtype=int)\n",
    "        self.reward_range = (-10, 1)\n",
    "        self.action_moves = [(i,j) for i in range(3) for j in range(3)]\n",
    "        self.player = 1\n",
    "        \n",
    "        # defined else stable baselines throws error\n",
    "        self.spec = None\n",
    "        self.metadata = None\n",
    "\n",
    "\n",
    "    def reset(self):\n",
    "        \"\"\"\n",
    "        Reset the state of the environment to an initial state\n",
    "        returns \n",
    "        eg.\n",
    "            return self.state\n",
    "        \"\"\"\n",
    "        self.grid = np.zeros((3, 3))\n",
    "\n",
    "        return self.grid\n",
    "\n",
    "\n",
    "    def step(self, action):\n",
    "        \"\"\"\n",
    "        Execute one time step within the environment\n",
    "        returns next state\n",
    "        eg. \n",
    "            modify state\n",
    "            return self.state, reward, done, info\n",
    "        \"\"\"\n",
    "        score, self.grid = mark_piece(self.grid, self.action_moves[action], self.player)\n",
    "\n",
    "        # reward\n",
    "        reward = 0\n",
    "        if score == -1:\n",
    "            reward = -10\n",
    "        elif score == 1:\n",
    "            reward = 1\n",
    "        elif score == 2:\n",
    "            reward = -1\n",
    "        elif score == -2:\n",
    "            reward = 1/9\n",
    "\n",
    "        # check if grid ended\n",
    "        done = True\n",
    "        if score == -2:\n",
    "            done = False\n",
    "\n",
    "        # info for debugginh\n",
    "        info = {}\n",
    "        \n",
    "        return self.grid, reward, done, info\n",
    "\n",
    "\n",
    "    def render(self, mode):\n",
    "        if ttt.gameOver(self.grid, self.player, False)[0]:\n",
    "            print('-----------------')\n",
    "            ttt.showGrid(self.grid)\n",
    "            print('-----------------')"
   ]
  },
  {
   "cell_type": "code",
   "execution_count": 118,
   "id": "f8cba3e4",
   "metadata": {},
   "outputs": [],
   "source": [
    "env = TicTacToeEnv()\n",
    "states = env.observation_space.shape\n",
    "actions = env.action_space.n"
   ]
  },
  {
   "cell_type": "code",
   "execution_count": 89,
   "id": "d44a1b39",
   "metadata": {},
   "outputs": [
    {
     "data": {
      "text/plain": [
       "((3, 3), 9)"
      ]
     },
     "execution_count": 89,
     "metadata": {},
     "output_type": "execute_result"
    }
   ],
   "source": [
    "states, actions"
   ]
  },
  {
   "cell_type": "markdown",
   "id": "bb8e6306",
   "metadata": {},
   "source": [
    "# 2. Dependencies"
   ]
  },
  {
   "cell_type": "code",
   "execution_count": 1,
   "id": "e76b2436",
   "metadata": {
    "collapsed": true
   },
   "outputs": [
    {
     "name": "stdout",
     "output_type": "stream",
     "text": [
      "Collecting keras\n",
      "  Downloading keras-2.6.0-py2.py3-none-any.whl (1.3 MB)\n",
      "Installing collected packages: keras\n",
      "Successfully installed keras-2.6.0\n"
     ]
    },
    {
     "name": "stderr",
     "output_type": "stream",
     "text": [
      "WARNING: Error parsing requirements for pytz: [Errno 2] No such file or directory: 'c:\\\\users\\\\debashish gogoi\\\\miniconda3\\\\envs\\\\tf2\\\\lib\\\\site-packages\\\\pytz-2021.1.dist-info\\\\METADATA'\n"
     ]
    },
    {
     "name": "stdout",
     "output_type": "stream",
     "text": [
      "Collecting keras-rl2\n",
      "  Downloading keras_rl2-1.0.5-py3-none-any.whl (52 kB)\n",
      "Requirement already satisfied: tensorflow in c:\\users\\debashish gogoi\\miniconda3\\envs\\tf2\\lib\\site-packages (from keras-rl2) (2.3.0)\n",
      "Requirement already satisfied: tensorboard<3,>=2.3.0 in c:\\users\\debashish gogoi\\miniconda3\\envs\\tf2\\lib\\site-packages (from tensorflow->keras-rl2) (2.4.0)\n",
      "Requirement already satisfied: wrapt>=1.11.1 in c:\\users\\debashish gogoi\\miniconda3\\envs\\tf2\\lib\\site-packages (from tensorflow->keras-rl2) (1.12.1)\n",
      "Requirement already satisfied: termcolor>=1.1.0 in c:\\users\\debashish gogoi\\miniconda3\\envs\\tf2\\lib\\site-packages (from tensorflow->keras-rl2) (1.1.0)\n",
      "Requirement already satisfied: h5py<2.11.0,>=2.10.0 in c:\\users\\debashish gogoi\\miniconda3\\envs\\tf2\\lib\\site-packages (from tensorflow->keras-rl2) (2.10.0)\n",
      "Collecting scipy==1.4.1\n",
      "  Downloading scipy-1.4.1-cp37-cp37m-win_amd64.whl (30.9 MB)\n",
      "Collecting tensorflow-estimator<2.4.0,>=2.3.0\n"
     ]
    },
    {
     "name": "stderr",
     "output_type": "stream",
     "text": [
      "WARNING: Error parsing requirements for pytz: [Errno 2] No such file or directory: 'c:\\\\users\\\\debashish gogoi\\\\miniconda3\\\\envs\\\\tf2\\\\lib\\\\site-packages\\\\pytz-2021.1.dist-info\\\\METADATA'\n"
     ]
    },
    {
     "name": "stdout",
     "output_type": "stream",
     "text": [
      "  Downloading tensorflow_estimator-2.3.0-py2.py3-none-any.whl (459 kB)\n",
      "Requirement already satisfied: protobuf>=3.9.2 in c:\\users\\debashish gogoi\\miniconda3\\envs\\tf2\\lib\\site-packages (from tensorflow->keras-rl2) (3.17.2)\n",
      "Requirement already satisfied: six>=1.12.0 in c:\\users\\debashish gogoi\\miniconda3\\envs\\tf2\\lib\\site-packages (from tensorflow->keras-rl2) (1.16.0)\n",
      "Requirement already satisfied: gast==0.3.3 in c:\\users\\debashish gogoi\\miniconda3\\envs\\tf2\\lib\\site-packages (from tensorflow->keras-rl2) (0.3.3)\n",
      "Requirement already satisfied: keras-preprocessing<1.2,>=1.1.1 in c:\\users\\debashish gogoi\\miniconda3\\envs\\tf2\\lib\\site-packages (from tensorflow->keras-rl2) (1.1.2)\n",
      "Requirement already satisfied: grpcio>=1.8.6 in c:\\users\\debashish gogoi\\miniconda3\\envs\\tf2\\lib\\site-packages (from tensorflow->keras-rl2) (1.36.1)\n",
      "Requirement already satisfied: google-pasta>=0.1.8 in c:\\users\\debashish gogoi\\miniconda3\\envs\\tf2\\lib\\site-packages (from tensorflow->keras-rl2) (0.2.0)\n",
      "Requirement already satisfied: absl-py>=0.7.0 in c:\\users\\debashish gogoi\\miniconda3\\envs\\tf2\\lib\\site-packages (from tensorflow->keras-rl2) (0.13.0)\n",
      "Requirement already satisfied: opt-einsum>=2.3.2 in c:\\users\\debashish gogoi\\miniconda3\\envs\\tf2\\lib\\site-packages (from tensorflow->keras-rl2) (3.3.0)\n",
      "Requirement already satisfied: wheel>=0.26 in c:\\users\\debashish gogoi\\miniconda3\\envs\\tf2\\lib\\site-packages (from tensorflow->keras-rl2) (0.37.0)\n",
      "Collecting numpy<1.19.0,>=1.16.0\n",
      "  Downloading numpy-1.18.5-cp37-cp37m-win_amd64.whl (12.7 MB)\n",
      "Requirement already satisfied: astunparse==1.6.3 in c:\\users\\debashish gogoi\\miniconda3\\envs\\tf2\\lib\\site-packages (from tensorflow->keras-rl2) (1.6.3)\n",
      "Requirement already satisfied: setuptools>=41.0.0 in c:\\users\\debashish gogoi\\miniconda3\\envs\\tf2\\lib\\site-packages (from tensorboard<3,>=2.3.0->tensorflow->keras-rl2) (52.0.0.post20210125)\n",
      "Requirement already satisfied: markdown>=2.6.8 in c:\\users\\debashish gogoi\\miniconda3\\envs\\tf2\\lib\\site-packages (from tensorboard<3,>=2.3.0->tensorflow->keras-rl2) (3.3.4)\n",
      "Requirement already satisfied: google-auth-oauthlib<0.5,>=0.4.1 in c:\\users\\debashish gogoi\\miniconda3\\envs\\tf2\\lib\\site-packages (from tensorboard<3,>=2.3.0->tensorflow->keras-rl2) (0.4.4)\n",
      "Requirement already satisfied: tensorboard-plugin-wit>=1.6.0 in c:\\users\\debashish gogoi\\miniconda3\\envs\\tf2\\lib\\site-packages (from tensorboard<3,>=2.3.0->tensorflow->keras-rl2) (1.6.0)\n",
      "Requirement already satisfied: requests<3,>=2.21.0 in c:\\users\\debashish gogoi\\miniconda3\\envs\\tf2\\lib\\site-packages (from tensorboard<3,>=2.3.0->tensorflow->keras-rl2) (2.25.1)\n",
      "Requirement already satisfied: google-auth<2,>=1.6.3 in c:\\users\\debashish gogoi\\miniconda3\\envs\\tf2\\lib\\site-packages (from tensorboard<3,>=2.3.0->tensorflow->keras-rl2) (1.33.0)\n",
      "Requirement already satisfied: werkzeug>=0.11.15 in c:\\users\\debashish gogoi\\miniconda3\\envs\\tf2\\lib\\site-packages (from tensorboard<3,>=2.3.0->tensorflow->keras-rl2) (1.0.1)\n",
      "Requirement already satisfied: pyasn1-modules>=0.2.1 in c:\\users\\debashish gogoi\\miniconda3\\envs\\tf2\\lib\\site-packages (from google-auth<2,>=1.6.3->tensorboard<3,>=2.3.0->tensorflow->keras-rl2) (0.2.8)\n",
      "Requirement already satisfied: rsa<5,>=3.1.4 in c:\\users\\debashish gogoi\\miniconda3\\envs\\tf2\\lib\\site-packages (from google-auth<2,>=1.6.3->tensorboard<3,>=2.3.0->tensorflow->keras-rl2) (4.7.2)\n",
      "Requirement already satisfied: cachetools<5.0,>=2.0.0 in c:\\users\\debashish gogoi\\miniconda3\\envs\\tf2\\lib\\site-packages (from google-auth<2,>=1.6.3->tensorboard<3,>=2.3.0->tensorflow->keras-rl2) (4.2.2)\n",
      "Requirement already satisfied: requests-oauthlib>=0.7.0 in c:\\users\\debashish gogoi\\miniconda3\\envs\\tf2\\lib\\site-packages (from google-auth-oauthlib<0.5,>=0.4.1->tensorboard<3,>=2.3.0->tensorflow->keras-rl2) (1.3.0)\n",
      "Requirement already satisfied: importlib-metadata in c:\\users\\debashish gogoi\\miniconda3\\envs\\tf2\\lib\\site-packages (from markdown>=2.6.8->tensorboard<3,>=2.3.0->tensorflow->keras-rl2) (3.10.0)\n",
      "Requirement already satisfied: pyasn1<0.5.0,>=0.4.6 in c:\\users\\debashish gogoi\\miniconda3\\envs\\tf2\\lib\\site-packages (from pyasn1-modules>=0.2.1->google-auth<2,>=1.6.3->tensorboard<3,>=2.3.0->tensorflow->keras-rl2) (0.4.8)\n",
      "Requirement already satisfied: chardet<5,>=3.0.2 in c:\\users\\debashish gogoi\\miniconda3\\envs\\tf2\\lib\\site-packages (from requests<3,>=2.21.0->tensorboard<3,>=2.3.0->tensorflow->keras-rl2) (3.0.4)\n",
      "Requirement already satisfied: idna<3,>=2.5 in c:\\users\\debashish gogoi\\miniconda3\\envs\\tf2\\lib\\site-packages (from requests<3,>=2.21.0->tensorboard<3,>=2.3.0->tensorflow->keras-rl2) (2.10)\n",
      "Requirement already satisfied: urllib3<1.27,>=1.21.1 in c:\\users\\debashish gogoi\\miniconda3\\envs\\tf2\\lib\\site-packages (from requests<3,>=2.21.0->tensorboard<3,>=2.3.0->tensorflow->keras-rl2) (1.26.6)\n",
      "Requirement already satisfied: certifi>=2017.4.17 in c:\\users\\debashish gogoi\\miniconda3\\envs\\tf2\\lib\\site-packages (from requests<3,>=2.21.0->tensorboard<3,>=2.3.0->tensorflow->keras-rl2) (2021.5.30)\n",
      "Requirement already satisfied: oauthlib>=3.0.0 in c:\\users\\debashish gogoi\\miniconda3\\envs\\tf2\\lib\\site-packages (from requests-oauthlib>=0.7.0->google-auth-oauthlib<0.5,>=0.4.1->tensorboard<3,>=2.3.0->tensorflow->keras-rl2) (3.1.1)\n",
      "Requirement already satisfied: zipp>=0.5 in c:\\users\\debashish gogoi\\miniconda3\\envs\\tf2\\lib\\site-packages (from importlib-metadata->markdown>=2.6.8->tensorboard<3,>=2.3.0->tensorflow->keras-rl2) (3.5.0)\n",
      "Requirement already satisfied: typing-extensions>=3.6.4 in c:\\users\\debashish gogoi\\miniconda3\\envs\\tf2\\lib\\site-packages (from importlib-metadata->markdown>=2.6.8->tensorboard<3,>=2.3.0->tensorflow->keras-rl2) (3.10.0.0)\n",
      "Installing collected packages: numpy, tensorflow-estimator, scipy, keras-rl2\n",
      "  Attempting uninstall: numpy\n",
      "    Found existing installation: numpy 1.20.3\n",
      "    Uninstalling numpy-1.20.3:\n",
      "      Successfully uninstalled numpy-1.20.3\n",
      "  Attempting uninstall: tensorflow-estimator\n",
      "    Found existing installation: tensorflow-estimator 2.5.0\n",
      "    Uninstalling tensorflow-estimator-2.5.0:\n",
      "      Successfully uninstalled tensorflow-estimator-2.5.0\n",
      "  Attempting uninstall: scipy\n",
      "    Found existing installation: scipy 1.6.2\n",
      "    Uninstalling scipy-1.6.2:\n",
      "      Successfully uninstalled scipy-1.6.2\n",
      "Successfully installed keras-rl2-1.0.5 numpy-1.18.5 scipy-1.4.1 tensorflow-estimator-2.3.0\n"
     ]
    }
   ],
   "source": [
    "!pip install keras\n",
    "!pip install keras-rl2\n",
    "# !pip install tensorflow==2.3.0"
   ]
  },
  {
   "cell_type": "markdown",
   "id": "20133839",
   "metadata": {},
   "source": [
    "# Test environment"
   ]
  },
  {
   "cell_type": "code",
   "execution_count": 100,
   "id": "7faae3ec",
   "metadata": {},
   "outputs": [
    {
     "name": "stdout",
     "output_type": "stream",
     "text": [
      "Episode:1, Score:-0.7777777777777778\n",
      "Episode:2, Score:-9.88888888888889\n",
      "Episode:3, Score:-9.88888888888889\n",
      "Episode:4, Score:-0.7777777777777778\n",
      "Episode:5, Score:-0.6666666666666667\n"
     ]
    }
   ],
   "source": [
    "env = TicTacToeEnv()\n",
    "episodes = 5\n",
    "for episode in range(episodes):\n",
    "    obs = env.reset()\n",
    "    done = False\n",
    "    score = 0\n",
    "\n",
    "    while not done:\n",
    "        env.render()\n",
    "        action = env.action_space.sample()\n",
    "        obs, reward, done, infp = env.step(action)\n",
    "        score += reward\n",
    "    print(f'Episode:{episode+1}, Score:{score}')\n",
    "env.close()"
   ]
  },
  {
   "cell_type": "markdown",
   "id": "32755b70",
   "metadata": {},
   "source": [
    "# 3. Train a deep learning model with keras"
   ]
  },
  {
   "cell_type": "code",
   "execution_count": 54,
   "id": "1af9ad99",
   "metadata": {},
   "outputs": [],
   "source": [
    "import numpy as np\n",
    "from tensorflow.keras.models import Sequential\n",
    "from tensorflow.keras.layers import Dense, Flatten\n",
    "from tensorflow.keras.optimizers import Adam"
   ]
  },
  {
   "cell_type": "code",
   "execution_count": 110,
   "id": "3ccbccd0",
   "metadata": {},
   "outputs": [],
   "source": [
    "def build_model(states, actions):\n",
    "    model = Sequential()\n",
    "    model.add(Flatten(input_shape=[1, states[0], states[1]]))\n",
    "    model.add(Dense(32, activation='relu'))\n",
    "    model.add(Dense(32, activation='relu'))\n",
    "    model.add(Dense(actions, activation='linear'))\n",
    "    return model"
   ]
  },
  {
   "cell_type": "code",
   "execution_count": 111,
   "id": "cfc94eb2",
   "metadata": {},
   "outputs": [],
   "source": [
    "model = build_model(states, actions)"
   ]
  },
  {
   "cell_type": "code",
   "execution_count": 112,
   "id": "ab45ae18",
   "metadata": {},
   "outputs": [
    {
     "name": "stdout",
     "output_type": "stream",
     "text": [
      "Model: \"sequential_12\"\n",
      "_________________________________________________________________\n",
      "Layer (type)                 Output Shape              Param #   \n",
      "=================================================================\n",
      "flatten_12 (Flatten)         (None, 9)                 0         \n",
      "_________________________________________________________________\n",
      "dense_27 (Dense)             (None, 32)                320       \n",
      "_________________________________________________________________\n",
      "dense_28 (Dense)             (None, 32)                1056      \n",
      "_________________________________________________________________\n",
      "dense_29 (Dense)             (None, 9)                 297       \n",
      "=================================================================\n",
      "Total params: 1,673\n",
      "Trainable params: 1,673\n",
      "Non-trainable params: 0\n",
      "_________________________________________________________________\n"
     ]
    }
   ],
   "source": [
    "model.summary()"
   ]
  },
  {
   "cell_type": "markdown",
   "id": "1fce9444",
   "metadata": {},
   "source": [
    "# Build Agent with keras-rl"
   ]
  },
  {
   "cell_type": "code",
   "execution_count": 58,
   "id": "ed4f1fdb",
   "metadata": {},
   "outputs": [],
   "source": [
    "from rl.agents import DQNAgent\n",
    "from rl.policy import BoltzmannQPolicy\n",
    "from rl.memory import SequentialMemory"
   ]
  },
  {
   "cell_type": "code",
   "execution_count": 113,
   "id": "20235ccb",
   "metadata": {},
   "outputs": [],
   "source": [
    "def build_agent(model, actions):\n",
    "    policy = BoltzmannQPolicy()\n",
    "    memory = SequentialMemory(limit=50000, window_length=1)\n",
    "    dqn = DQNAgent(model=model, memory=memory, policy=policy, nb_actions=actions, nb_steps_warmup=10, target_model_update=1e-2)\n",
    "    return dqn"
   ]
  },
  {
   "cell_type": "code",
   "execution_count": 114,
   "id": "34b6ff44",
   "metadata": {},
   "outputs": [
    {
     "name": "stdout",
     "output_type": "stream",
     "text": [
      "Training for 50000 steps ...\n",
      "Interval 1 (0 steps performed)\n",
      "10000/10000 [==============================] - 253s 25ms/step - reward: -0.2583\n",
      "2802 episodes - episode_reward: -0.922 [-9.889, 1.333] - loss: 0.480 - mae: 3.358 - mean_q: -0.179\n",
      "\n",
      "Interval 2 (10000 steps performed)\n",
      "10000/10000 [==============================] - 177s 18ms/step - reward: -0.1130\n",
      "2700 episodes - episode_reward: -0.419 [-9.889, 1.333] - loss: 0.093 - mae: 3.593 - mean_q: 0.031\n",
      "\n",
      "Interval 3 (20000 steps performed)\n",
      "10000/10000 [==============================] - 162s 16ms/step - reward: -0.1005\n",
      "2667 episodes - episode_reward: -0.377 [-9.889, 1.333] - loss: 0.073 - mae: 3.624 - mean_q: 0.058\n",
      "\n",
      "Interval 4 (30000 steps performed)\n",
      "10000/10000 [==============================] - 167s 17ms/step - reward: -0.1068\n",
      "2672 episodes - episode_reward: -0.400 [-9.889, 1.333] - loss: 0.067 - mae: 3.626 - mean_q: 0.078\n",
      "\n",
      "Interval 5 (40000 steps performed)\n",
      "10000/10000 [==============================] - 166s 17ms/step - reward: -0.1013\n",
      "done, took 924.909 seconds\n"
     ]
    },
    {
     "data": {
      "text/plain": [
       "<tensorflow.python.keras.callbacks.History at 0x17f66629f08>"
      ]
     },
     "execution_count": 114,
     "metadata": {},
     "output_type": "execute_result"
    }
   ],
   "source": [
    "dqn = build_agent(model, actions)\n",
    "dqn.compile(Adam(lr=1e-3), metrics=['mae'])\n",
    "dqn.fit(env, nb_steps=50000, visualize=False, verbose=1)"
   ]
  },
  {
   "cell_type": "markdown",
   "id": "c7833a95",
   "metadata": {},
   "source": [
    "# 4. Test and save the model"
   ]
  },
  {
   "cell_type": "code",
   "execution_count": 115,
   "id": "a6c3283c",
   "metadata": {},
   "outputs": [
    {
     "name": "stdout",
     "output_type": "stream",
     "text": [
      "Testing for 100 episodes ...\n",
      "Episode 1: reward: 0.444, steps: 5\n",
      "Episode 2: reward: 0.444, steps: 5\n",
      "Episode 3: reward: 0.444, steps: 5\n",
      "Episode 4: reward: 0.444, steps: 5\n",
      "Episode 5: reward: 0.444, steps: 5\n",
      "Episode 6: reward: 0.444, steps: 5\n",
      "Episode 7: reward: -0.667, steps: 4\n",
      "Episode 8: reward: 0.444, steps: 5\n",
      "Episode 9: reward: 0.444, steps: 5\n",
      "Episode 10: reward: 0.444, steps: 5\n",
      "Episode 11: reward: 0.444, steps: 5\n",
      "Episode 12: reward: 0.444, steps: 5\n",
      "Episode 13: reward: 0.444, steps: 5\n",
      "Episode 14: reward: 0.444, steps: 5\n",
      "Episode 15: reward: -0.667, steps: 4\n",
      "Episode 16: reward: 0.444, steps: 5\n",
      "Episode 17: reward: 0.444, steps: 5\n",
      "Episode 18: reward: 0.444, steps: 5\n",
      "Episode 19: reward: 0.444, steps: 5\n",
      "Episode 20: reward: 0.444, steps: 5\n",
      "Episode 21: reward: 0.444, steps: 5\n",
      "Episode 22: reward: 0.444, steps: 5\n",
      "Episode 23: reward: 0.444, steps: 5\n",
      "Episode 24: reward: 0.444, steps: 5\n",
      "Episode 25: reward: 0.444, steps: 5\n",
      "Episode 26: reward: 0.444, steps: 5\n",
      "Episode 27: reward: 0.444, steps: 5\n",
      "Episode 28: reward: -0.667, steps: 4\n",
      "Episode 29: reward: -0.667, steps: 4\n",
      "Episode 30: reward: -0.778, steps: 3\n",
      "Episode 31: reward: 0.444, steps: 5\n",
      "Episode 32: reward: 0.444, steps: 5\n",
      "Episode 33: reward: 0.444, steps: 5\n",
      "Episode 34: reward: 0.444, steps: 5\n",
      "Episode 35: reward: 0.444, steps: 5\n",
      "Episode 36: reward: -0.667, steps: 4\n",
      "Episode 37: reward: 0.444, steps: 5\n",
      "Episode 38: reward: 0.444, steps: 5\n",
      "Episode 39: reward: -0.667, steps: 4\n",
      "Episode 40: reward: 0.444, steps: 5\n",
      "Episode 41: reward: -0.667, steps: 4\n",
      "Episode 42: reward: -0.667, steps: 4\n",
      "Episode 43: reward: 0.444, steps: 5\n",
      "Episode 44: reward: 0.444, steps: 5\n",
      "Episode 45: reward: -0.667, steps: 4\n",
      "Episode 46: reward: 0.444, steps: 5\n",
      "Episode 47: reward: -0.667, steps: 4\n",
      "Episode 48: reward: -0.667, steps: 4\n",
      "Episode 49: reward: 0.444, steps: 5\n",
      "Episode 50: reward: 0.444, steps: 5\n",
      "Episode 51: reward: 0.444, steps: 5\n",
      "Episode 52: reward: 0.444, steps: 5\n",
      "Episode 53: reward: 0.444, steps: 5\n",
      "Episode 54: reward: 0.444, steps: 5\n",
      "Episode 55: reward: 0.444, steps: 5\n",
      "Episode 56: reward: 0.444, steps: 5\n",
      "Episode 57: reward: 0.444, steps: 5\n",
      "Episode 58: reward: 0.444, steps: 5\n",
      "Episode 59: reward: 0.444, steps: 5\n",
      "Episode 60: reward: 0.444, steps: 5\n",
      "Episode 61: reward: -0.778, steps: 3\n",
      "Episode 62: reward: 0.444, steps: 5\n",
      "Episode 63: reward: 0.444, steps: 5\n",
      "Episode 64: reward: 0.444, steps: 5\n",
      "Episode 65: reward: 0.444, steps: 5\n",
      "Episode 66: reward: 0.444, steps: 5\n",
      "Episode 67: reward: 0.444, steps: 5\n",
      "Episode 68: reward: 0.444, steps: 5\n",
      "Episode 69: reward: 0.444, steps: 5\n",
      "Episode 70: reward: 0.444, steps: 5\n",
      "Episode 71: reward: 0.444, steps: 5\n",
      "Episode 72: reward: 0.444, steps: 5\n",
      "Episode 73: reward: 0.444, steps: 5\n",
      "Episode 74: reward: 0.444, steps: 5\n",
      "Episode 75: reward: 0.444, steps: 5\n",
      "Episode 76: reward: 0.444, steps: 5\n",
      "Episode 77: reward: 0.444, steps: 5\n",
      "Episode 78: reward: 0.444, steps: 5\n",
      "Episode 79: reward: 0.444, steps: 5\n",
      "Episode 80: reward: 0.444, steps: 5\n",
      "Episode 81: reward: 0.444, steps: 5\n",
      "Episode 82: reward: 0.444, steps: 5\n",
      "Episode 83: reward: 0.444, steps: 5\n",
      "Episode 84: reward: 0.444, steps: 5\n",
      "Episode 85: reward: 0.444, steps: 5\n",
      "Episode 86: reward: 0.444, steps: 5\n",
      "Episode 87: reward: 0.444, steps: 5\n",
      "Episode 88: reward: 0.444, steps: 5\n",
      "Episode 89: reward: 0.444, steps: 5\n",
      "Episode 90: reward: 0.444, steps: 5\n",
      "Episode 91: reward: 0.444, steps: 5\n",
      "Episode 92: reward: -0.778, steps: 3\n",
      "Episode 93: reward: 0.444, steps: 5\n",
      "Episode 94: reward: 0.444, steps: 5\n",
      "Episode 95: reward: 0.444, steps: 5\n",
      "Episode 96: reward: 0.444, steps: 5\n",
      "Episode 97: reward: 0.444, steps: 5\n",
      "Episode 98: reward: -0.667, steps: 4\n",
      "Episode 99: reward: 0.444, steps: 5\n",
      "Episode 100: reward: 0.444, steps: 5\n",
      "0.2744444444444444\n"
     ]
    }
   ],
   "source": [
    "scores = dqn.test(env, nb_episodes=100, visualize=False)\n",
    "print(np.mean(scores.history['episode_reward']))"
   ]
  },
  {
   "cell_type": "code",
   "execution_count": 119,
   "id": "163b8107",
   "metadata": {},
   "outputs": [
    {
     "name": "stdout",
     "output_type": "stream",
     "text": [
      "Testing for 10 episodes ...\n",
      "-----------------\n",
      "| X || O || O |\n",
      "| O || X || X |\n",
      "| X || X || O |\n",
      "-----------------\n",
      "Episode 1: reward: 0.444, steps: 5\n",
      "-----------------\n",
      "| O || O || X |\n",
      "| O || X || _ |\n",
      "| O || X || X |\n",
      "-----------------\n",
      "Episode 2: reward: -0.667, steps: 4\n",
      "-----------------\n",
      "| O || X || X |\n",
      "| X || X || O |\n",
      "| O || O || X |\n",
      "-----------------\n",
      "Episode 3: reward: 0.444, steps: 5\n",
      "-----------------\n",
      "| O || O || X |\n",
      "| X || X || O |\n",
      "| O || X || X |\n",
      "-----------------\n",
      "Episode 4: reward: 0.444, steps: 5\n",
      "-----------------\n",
      "| O || X || O |\n",
      "| X || X || O |\n",
      "| X || O || X |\n",
      "-----------------\n",
      "Episode 5: reward: 0.444, steps: 5\n",
      "-----------------\n",
      "| X || O || X |\n",
      "| O || X || X |\n",
      "| O || X || O |\n",
      "-----------------\n",
      "Episode 6: reward: 0.444, steps: 5\n",
      "-----------------\n",
      "| O || O || X |\n",
      "| O || X || _ |\n",
      "| O || X || X |\n",
      "-----------------\n",
      "Episode 7: reward: -0.667, steps: 4\n",
      "-----------------\n",
      "| O || O || X |\n",
      "| X || X || O |\n",
      "| O || X || X |\n",
      "-----------------\n",
      "Episode 8: reward: 0.444, steps: 5\n",
      "-----------------\n",
      "| O || X || X |\n",
      "| X || X || O |\n",
      "| O || O || X |\n",
      "-----------------\n",
      "Episode 9: reward: 0.444, steps: 5\n",
      "-----------------\n",
      "| X || O || X |\n",
      "| O || X || X |\n",
      "| O || X || O |\n",
      "-----------------\n",
      "Episode 10: reward: 0.444, steps: 5\n"
     ]
    }
   ],
   "source": [
    "_ = dqn.test(env, nb_episodes=10, visualize=True)"
   ]
  },
  {
   "cell_type": "code",
   "execution_count": 120,
   "id": "6e573d0c",
   "metadata": {},
   "outputs": [],
   "source": [
    "dqn.save_weights('dqn_weights.h5f', overwrite=True)"
   ]
  },
  {
   "cell_type": "code",
   "execution_count": 121,
   "id": "9347b2cf",
   "metadata": {},
   "outputs": [],
   "source": [
    "del model\n",
    "del dqn\n",
    "del env"
   ]
  },
  {
   "cell_type": "markdown",
   "id": "21b81280",
   "metadata": {},
   "source": [
    "# 5. Load and play"
   ]
  },
  {
   "cell_type": "code",
   "execution_count": 124,
   "id": "a41ac35e",
   "metadata": {},
   "outputs": [],
   "source": [
    "env = TicTacToeEnv()\n",
    "actions = env.action_space.n\n",
    "states = env.observation_space.shape[0]\n",
    "model = build_model(states, actions)\n",
    "dqn = build_agent(model, actions)\n",
    "dqn.compile(Adam(lr=1e-3), metrics=['mae'])"
   ]
  },
  {
   "cell_type": "code",
   "execution_count": 125,
   "id": "6aaef9c8",
   "metadata": {},
   "outputs": [],
   "source": [
    "dqn.load_weights('dqn_weights.h5f')"
   ]
  },
  {
   "cell_type": "code",
   "execution_count": 126,
   "id": "b11f89e1",
   "metadata": {},
   "outputs": [
    {
     "name": "stdout",
     "output_type": "stream",
     "text": [
      "Testing for 5 episodes ...\n",
      "-----------------\n",
      "| X || O || X |\n",
      "| X || X || O |\n",
      "| O || X || O |\n",
      "-----------------\n",
      "Episode 1: reward: 0.444, steps: 5\n",
      "-----------------\n",
      "| X || O || X |\n",
      "| X || X || O |\n",
      "| O || X || O |\n",
      "-----------------\n",
      "Episode 2: reward: 0.444, steps: 5\n",
      "-----------------\n",
      "| O || O || O |\n",
      "| O || X || X |\n",
      "| X || _ || X |\n",
      "-----------------\n",
      "Episode 3: reward: -0.667, steps: 4\n",
      "-----------------\n",
      "| O || X || O |\n",
      "| O || X || X |\n",
      "| X || O || X |\n",
      "-----------------\n",
      "Episode 4: reward: 0.444, steps: 5\n",
      "-----------------\n",
      "| O || X || X |\n",
      "| X || X || O |\n",
      "| O || O || X |\n",
      "-----------------\n",
      "Episode 5: reward: 0.444, steps: 5\n"
     ]
    }
   ],
   "source": [
    "_ = dqn.test(env, nb_episodes=5, visualize=True)"
   ]
  },
  {
   "cell_type": "code",
   "execution_count": null,
   "id": "db71eec0",
   "metadata": {},
   "outputs": [],
   "source": []
  }
 ],
 "metadata": {
  "kernelspec": {
   "display_name": "Python 3",
   "language": "python",
   "name": "python3"
  },
  "language_info": {
   "codemirror_mode": {
    "name": "ipython",
    "version": 3
   },
   "file_extension": ".py",
   "mimetype": "text/x-python",
   "name": "python",
   "nbconvert_exporter": "python",
   "pygments_lexer": "ipython3",
   "version": "3.7.11"
  }
 },
 "nbformat": 4,
 "nbformat_minor": 5
}
